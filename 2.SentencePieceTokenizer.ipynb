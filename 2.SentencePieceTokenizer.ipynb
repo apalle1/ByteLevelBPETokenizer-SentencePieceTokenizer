{
  "nbformat": 4,
  "nbformat_minor": 0,
  "metadata": {
    "colab": {
      "name": "SentencePieceTokenizer.ipynb",
      "provenance": [],
      "collapsed_sections": []
    },
    "kernelspec": {
      "name": "python3",
      "display_name": "Python 3"
    }
  },
  "cells": [
    {
      "cell_type": "markdown",
      "metadata": {
        "id": "RVOW_nY3MBi_",
        "colab_type": "text"
      },
      "source": [
        "Sentencepiece is pretty cool because it is a language-independent subword tokenizer.\n",
        "\n",
        "**Sentencepiece repository:** \n",
        "https://github.com/google/sentencepiece\n",
        "\n",
        "**Sentencepiece python implementation:** https://github.com/google/sentencepiece/blob/master/python/sentencepiece_python_module_example.ipynb"
      ]
    },
    {
      "cell_type": "code",
      "metadata": {
        "id": "rjgqZMP0OjSG",
        "colab_type": "code",
        "colab": {
          "base_uri": "https://localhost:8080/",
          "height": 74
        },
        "outputId": "e17b1208-9a23-4e8a-c65a-b413c05616b4"
      },
      "source": [
        "from google.colab import drive\n",
        "drive.mount('/content/drive')\n",
        "%cd /content/drive/My Drive/Tweet Sentiment Extraction Final"
      ],
      "execution_count": null,
      "outputs": [
        {
          "output_type": "stream",
          "text": [
            "Drive already mounted at /content/drive; to attempt to forcibly remount, call drive.mount(\"/content/drive\", force_remount=True).\n",
            "/content/drive/My Drive/Tweet Sentiment Extraction Final\n"
          ],
          "name": "stdout"
        }
      ]
    },
    {
      "cell_type": "code",
      "metadata": {
        "id": "c_PWpli_PVlV",
        "colab_type": "code",
        "colab": {
          "base_uri": "https://localhost:8080/",
          "height": 401
        },
        "outputId": "a2b19b58-4b57-4b85-aa1c-4cc936f056a8"
      },
      "source": [
        "!pip install transformers\n",
        "!pip install sentencepiece"
      ],
      "execution_count": null,
      "outputs": [
        {
          "output_type": "stream",
          "text": [
            "Requirement already satisfied: transformers in /usr/local/lib/python3.6/dist-packages (3.0.1)\n",
            "Requirement already satisfied: requests in /usr/local/lib/python3.6/dist-packages (from transformers) (2.23.0)\n",
            "Requirement already satisfied: sacremoses in /usr/local/lib/python3.6/dist-packages (from transformers) (0.0.43)\n",
            "Requirement already satisfied: tqdm>=4.27 in /usr/local/lib/python3.6/dist-packages (from transformers) (4.41.1)\n",
            "Requirement already satisfied: dataclasses; python_version < \"3.7\" in /usr/local/lib/python3.6/dist-packages (from transformers) (0.7)\n",
            "Requirement already satisfied: filelock in /usr/local/lib/python3.6/dist-packages (from transformers) (3.0.12)\n",
            "Requirement already satisfied: tokenizers==0.8.0-rc4 in /usr/local/lib/python3.6/dist-packages (from transformers) (0.8.0rc4)\n",
            "Requirement already satisfied: numpy in /usr/local/lib/python3.6/dist-packages (from transformers) (1.18.5)\n",
            "Requirement already satisfied: sentencepiece!=0.1.92 in /usr/local/lib/python3.6/dist-packages (from transformers) (0.1.91)\n",
            "Requirement already satisfied: packaging in /usr/local/lib/python3.6/dist-packages (from transformers) (20.4)\n",
            "Requirement already satisfied: regex!=2019.12.17 in /usr/local/lib/python3.6/dist-packages (from transformers) (2019.12.20)\n",
            "Requirement already satisfied: idna<3,>=2.5 in /usr/local/lib/python3.6/dist-packages (from requests->transformers) (2.9)\n",
            "Requirement already satisfied: chardet<4,>=3.0.2 in /usr/local/lib/python3.6/dist-packages (from requests->transformers) (3.0.4)\n",
            "Requirement already satisfied: certifi>=2017.4.17 in /usr/local/lib/python3.6/dist-packages (from requests->transformers) (2020.6.20)\n",
            "Requirement already satisfied: urllib3!=1.25.0,!=1.25.1,<1.26,>=1.21.1 in /usr/local/lib/python3.6/dist-packages (from requests->transformers) (1.24.3)\n",
            "Requirement already satisfied: six in /usr/local/lib/python3.6/dist-packages (from sacremoses->transformers) (1.12.0)\n",
            "Requirement already satisfied: joblib in /usr/local/lib/python3.6/dist-packages (from sacremoses->transformers) (0.15.1)\n",
            "Requirement already satisfied: click in /usr/local/lib/python3.6/dist-packages (from sacremoses->transformers) (7.1.2)\n",
            "Requirement already satisfied: pyparsing>=2.0.2 in /usr/local/lib/python3.6/dist-packages (from packaging->transformers) (2.4.7)\n",
            "Requirement already satisfied: sentencepiece in /usr/local/lib/python3.6/dist-packages (0.1.91)\n"
          ],
          "name": "stdout"
        }
      ]
    },
    {
      "cell_type": "code",
      "metadata": {
        "id": "RATZXn8UMAk1",
        "colab_type": "code",
        "colab": {
          "base_uri": "https://localhost:8080/",
          "height": 35
        },
        "outputId": "3a5c0477-66d2-4862-fc2a-e2dfbeeed5ac"
      },
      "source": [
        "import sentencepiece as spm\n",
        "sp = spm.SentencePieceProcessor()\n",
        "sp.load('./input/albert-configs/albert-large-v2/spiece.model')"
      ],
      "execution_count": null,
      "outputs": [
        {
          "output_type": "execute_result",
          "data": {
            "text/plain": [
              "True"
            ]
          },
          "metadata": {
            "tags": []
          },
          "execution_count": 3
        }
      ]
    },
    {
      "cell_type": "code",
      "metadata": {
        "id": "S3szTpIdMAnQ",
        "colab_type": "code",
        "colab": {
          "base_uri": "https://localhost:8080/",
          "height": 181
        },
        "outputId": "eca82780-1c1d-467d-c3cc-81530b6da962"
      },
      "source": [
        "sp.encode_as_pieces('the quick brown fox jumps over the lazy dog')"
      ],
      "execution_count": null,
      "outputs": [
        {
          "output_type": "execute_result",
          "data": {
            "text/plain": [
              "['▁the',\n",
              " '▁quick',\n",
              " '▁brown',\n",
              " '▁fox',\n",
              " '▁jumps',\n",
              " '▁over',\n",
              " '▁the',\n",
              " '▁lazy',\n",
              " '▁dog']"
            ]
          },
          "metadata": {
            "tags": []
          },
          "execution_count": 4
        }
      ]
    },
    {
      "cell_type": "code",
      "metadata": {
        "id": "2ijpFSvNMArs",
        "colab_type": "code",
        "colab": {
          "base_uri": "https://localhost:8080/",
          "height": 35
        },
        "outputId": "6ae55bd7-c0ce-455b-c8cf-7e99f32a62c9"
      },
      "source": [
        "sp.encode_as_ids('the quick brown fox jumps over the lazy dog')"
      ],
      "execution_count": null,
      "outputs": [
        {
          "output_type": "execute_result",
          "data": {
            "text/plain": [
              "[14, 2231, 886, 2385, 17659, 84, 14, 16792, 1952]"
            ]
          },
          "metadata": {
            "tags": []
          },
          "execution_count": 5
        }
      ]
    },
    {
      "cell_type": "code",
      "metadata": {
        "id": "2vOjUaI5MAuP",
        "colab_type": "code",
        "colab": {
          "base_uri": "https://localhost:8080/",
          "height": 35
        },
        "outputId": "86b7a0b4-56ec-42c3-f496-cfb5203f94ec"
      },
      "source": [
        "pieces = sp.encode_as_pieces('the quick brown fox jumps over the lazy dog')\n",
        "\"\".join(pieces).replace(\"▁\", \" \").strip()"
      ],
      "execution_count": null,
      "outputs": [
        {
          "output_type": "execute_result",
          "data": {
            "application/vnd.google.colaboratory.intrinsic": {
              "type": "string"
            },
            "text/plain": [
              "'the quick brown fox jumps over the lazy dog'"
            ]
          },
          "metadata": {
            "tags": []
          },
          "execution_count": 6
        }
      ]
    },
    {
      "cell_type": "code",
      "metadata": {
        "id": "4JTkjHB9jIh5",
        "colab_type": "code",
        "colab": {}
      },
      "source": [
        "import sys\n",
        "sys.path.insert(0, './input/sentencepiece_pb2/')"
      ],
      "execution_count": null,
      "outputs": []
    },
    {
      "cell_type": "code",
      "metadata": {
        "id": "KJp049bFMAxh",
        "colab_type": "code",
        "colab": {}
      },
      "source": [
        "import sentencepiece_pb2"
      ],
      "execution_count": null,
      "outputs": []
    },
    {
      "cell_type": "code",
      "metadata": {
        "id": "DrdtYRi6MA1q",
        "colab_type": "code",
        "colab": {
          "base_uri": "https://localhost:8080/",
          "height": 35
        },
        "outputId": "b3819e2d-69c6-4959-807f-34dbae7d9531"
      },
      "source": [
        "spt = sentencepiece_pb2.SentencePieceText()\n",
        "sp = spm.SentencePieceProcessor()\n",
        "sp.load('./input/albert-configs/albert-large-v2/spiece.model')"
      ],
      "execution_count": null,
      "outputs": [
        {
          "output_type": "execute_result",
          "data": {
            "text/plain": [
              "True"
            ]
          },
          "metadata": {
            "tags": []
          },
          "execution_count": 9
        }
      ]
    },
    {
      "cell_type": "code",
      "metadata": {
        "id": "FC7L0_5CMA4x",
        "colab_type": "code",
        "colab": {
          "base_uri": "https://localhost:8080/",
          "height": 1000
        },
        "outputId": "8bb691a1-dede-4b9c-e4f5-920497055fcc"
      },
      "source": [
        "spt.ParseFromString(sp.encode_as_serialized_proto('the quick brown fox jumps over the lazy dog'))\n",
        "print(spt)"
      ],
      "execution_count": null,
      "outputs": [
        {
          "output_type": "stream",
          "text": [
            "text: \"the quick brown fox jumps over the lazy dog\"\n",
            "pieces {\n",
            "  piece: \"\\342\\226\\201the\"\n",
            "  id: 14\n",
            "  surface: \"the\"\n",
            "  begin: 0\n",
            "  end: 3\n",
            "}\n",
            "pieces {\n",
            "  piece: \"\\342\\226\\201quick\"\n",
            "  id: 2231\n",
            "  surface: \" quick\"\n",
            "  begin: 3\n",
            "  end: 9\n",
            "}\n",
            "pieces {\n",
            "  piece: \"\\342\\226\\201brown\"\n",
            "  id: 886\n",
            "  surface: \" brown\"\n",
            "  begin: 9\n",
            "  end: 15\n",
            "}\n",
            "pieces {\n",
            "  piece: \"\\342\\226\\201fox\"\n",
            "  id: 2385\n",
            "  surface: \" fox\"\n",
            "  begin: 15\n",
            "  end: 19\n",
            "}\n",
            "pieces {\n",
            "  piece: \"\\342\\226\\201jumps\"\n",
            "  id: 17659\n",
            "  surface: \" jumps\"\n",
            "  begin: 19\n",
            "  end: 25\n",
            "}\n",
            "pieces {\n",
            "  piece: \"\\342\\226\\201over\"\n",
            "  id: 84\n",
            "  surface: \" over\"\n",
            "  begin: 25\n",
            "  end: 30\n",
            "}\n",
            "pieces {\n",
            "  piece: \"\\342\\226\\201the\"\n",
            "  id: 14\n",
            "  surface: \" the\"\n",
            "  begin: 30\n",
            "  end: 34\n",
            "}\n",
            "pieces {\n",
            "  piece: \"\\342\\226\\201lazy\"\n",
            "  id: 16792\n",
            "  surface: \" lazy\"\n",
            "  begin: 34\n",
            "  end: 39\n",
            "}\n",
            "pieces {\n",
            "  piece: \"\\342\\226\\201dog\"\n",
            "  id: 1952\n",
            "  surface: \" dog\"\n",
            "  begin: 39\n",
            "  end: 43\n",
            "}\n",
            "\n"
          ],
          "name": "stdout"
        }
      ]
    },
    {
      "cell_type": "code",
      "metadata": {
        "id": "d7C23DyBMA9u",
        "colab_type": "code",
        "colab": {}
      },
      "source": [
        "class SentencePieceTokenizer:\n",
        "  def __init__(self, model_path):\n",
        "    self.sp = spm.SentencePieceProcessor()\n",
        "    self.sp.load(os.path.join(model_path, 'spiece.model'))\n",
        "  \n",
        "  def encode(self, sentence):\n",
        "    spt = sentencepiece_pb2.SentencePieceText()\n",
        "    spt.ParseFromString(self.sp.encode_as_serialized_proto(sentence))\n",
        "    offsets = []\n",
        "    tokens = []\n",
        "    for piece in spt.pieces:\n",
        "      tokens.append(piece.id)\n",
        "      offsets.append((piece.begin, piece.end))\n",
        "    return tokens, offsets"
      ],
      "execution_count": null,
      "outputs": []
    },
    {
      "cell_type": "code",
      "metadata": {
        "id": "1euM49K4MBCL",
        "colab_type": "code",
        "colab": {}
      },
      "source": [
        "import os\n",
        "class config:\n",
        "  MODEL_NAME = \"albert-large-v2\"\n",
        "spt = SentencePieceTokenizer('./input/albert-configs/albert-large-v2')"
      ],
      "execution_count": null,
      "outputs": []
    },
    {
      "cell_type": "code",
      "metadata": {
        "id": "yWhUj7pKMA7l",
        "colab_type": "code",
        "colab": {
          "base_uri": "https://localhost:8080/",
          "height": 199
        },
        "outputId": "a4eae2b4-c76b-4d41-f2e9-97822ab5b704"
      },
      "source": [
        "spt.encode('the quick brown fox jumps over the lazy dog')"
      ],
      "execution_count": null,
      "outputs": [
        {
          "output_type": "execute_result",
          "data": {
            "text/plain": [
              "([14, 2231, 886, 2385, 17659, 84, 14, 16792, 1952],\n",
              " [(0, 3),\n",
              "  (3, 9),\n",
              "  (9, 15),\n",
              "  (15, 19),\n",
              "  (19, 25),\n",
              "  (25, 30),\n",
              "  (30, 34),\n",
              "  (34, 39),\n",
              "  (39, 43)])"
            ]
          },
          "metadata": {
            "tags": []
          },
          "execution_count": 13
        }
      ]
    },
    {
      "cell_type": "code",
      "metadata": {
        "id": "f8xO15JrMA0B",
        "colab_type": "code",
        "colab": {
          "base_uri": "https://localhost:8080/",
          "height": 35
        },
        "outputId": "f8aa0595-b51c-40fa-94c7-96f6b8588e00"
      },
      "source": [
        "import transformers\n",
        "spt_trans = transformers.AlbertTokenizer.from_pretrained('./input/albert-configs/albert-large-v2/')\n",
        "spt_trans.encode('the quick brown fox jumps over the lazy dog')"
      ],
      "execution_count": null,
      "outputs": [
        {
          "output_type": "execute_result",
          "data": {
            "text/plain": [
              "[2, 14, 2231, 886, 2385, 17659, 84, 14, 16792, 1952, 3]"
            ]
          },
          "metadata": {
            "tags": []
          },
          "execution_count": 14
        }
      ]
    }
  ]
}